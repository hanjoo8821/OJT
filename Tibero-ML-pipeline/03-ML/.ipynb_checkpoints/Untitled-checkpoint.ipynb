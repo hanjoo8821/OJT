{
 "cells": [
  {
   "cell_type": "code",
   "execution_count": 141,
   "metadata": {},
   "outputs": [],
   "source": [
    "import numpy as np\n",
    "from sklearn.svm import SVR\n",
    "import matplotlib.pyplot as plt\n",
    "import sys"
   ]
  },
  {
   "cell_type": "code",
   "execution_count": 161,
   "metadata": {},
   "outputs": [],
   "source": [
    "def read_data(n1, n2):\n",
    "    file_name1 = './Output/' + n1 + '_trans.txt'\n",
    "    file_name2 = './Output/' + n2 + '_trans.txt'\n",
    "\n",
    "    id1 = []\n",
    "    id2 = []\n",
    "\n",
    "    with open(file_name1, 'r') as f1:\n",
    "        lines = f1.readlines()\n",
    "        for line in lines:\n",
    "            id1.append(float(line.replace('\\n', '')))\n",
    "\n",
    "    with open(file_name2, 'r') as f2:\n",
    "        lines = f2.readlines()\n",
    "        for line in lines:\n",
    "            id2.append(float(line.replace('\\n', '')))\n",
    "\n",
    "    id1 = np.array(id1).reshape(-1, 1)\n",
    "    id2 = np.array(id2).reshape(-1, 1)\n",
    "    \n",
    "    return id1, id2"
   ]
  },
  {
   "cell_type": "code",
   "execution_count": null,
   "metadata": {},
   "outputs": [],
   "source": [
    "def train(n1, n2):\n",
    "    x_data, y_data = read_data(n1, n2)\n",
    "    y_data = y_data.ravel()\n",
    "    \n",
    "    svr_rbf = SVR(kernel='linear', C=1e4)\n",
    "    y_rbf = svr_rbf.fit(x_data, y_data).predict(x_data)\n",
    "    \n",
    "    plt.scatter(x_data, y_data, label='data')\n",
    "    plt.plot(x_data, y_rbf, label='RBF model')\n",
    "    plt.xlabel('data')\n",
    "    plt.ylabel('target')\n",
    "    plt.title('Support Vector Regression')\n",
    "    plt.legend()\n",
    "    plt.show()"
   ]
  },
  {
   "cell_type": "code",
   "execution_count": null,
   "metadata": {},
   "outputs": [],
   "source": [
    "train(\"EMP_NUM\", \"BIRTH\")"
   ]
  }
 ],
 "metadata": {
  "kernelspec": {
   "display_name": "Python 3",
   "language": "python",
   "name": "python3"
  },
  "language_info": {
   "codemirror_mode": {
    "name": "ipython",
    "version": 3
   },
   "file_extension": ".py",
   "mimetype": "text/x-python",
   "name": "python",
   "nbconvert_exporter": "python",
   "pygments_lexer": "ipython3",
   "version": "3.7.7"
  }
 },
 "nbformat": 4,
 "nbformat_minor": 4
}
